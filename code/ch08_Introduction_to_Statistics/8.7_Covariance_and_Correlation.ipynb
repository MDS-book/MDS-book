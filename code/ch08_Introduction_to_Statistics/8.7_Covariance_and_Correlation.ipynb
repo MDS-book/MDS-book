{
 "cells": [
  {
   "cell_type": "markdown",
   "metadata": {},
   "source": [
    "<div class=\"alert alert-block\">\n",
    "This jupyter notebook is part of the supplementary material for the book \"Materials Data Science\" (Stefan Sandfeld, Springer, 2024, DOI 10.1007/978-3-031-46565-9). For further details please refer to the accompanying webpage at <a href=\"https://mds-book.org\">https://mds-book.org</a>.\n",
    "</div>"
   ]
  },
  {
   "cell_type": "markdown",
   "metadata": {},
   "source": [
    "## 8.7 Relations between Multivariate Variables: Covariance and Correlation\n",
    "\n",
    "### 8.7.1 Covariance\n",
    "\n",
    "Covariance is a measure for the degree of relationship between two variables and\n",
    "is related to variance: while variance is a measure for the spread of distribution,\n",
    "covariance is a measure of how strongly these two variable vary together.\n",
    "\n",
    "<div class=\"alert alert-block alert-info\">\n",
    "<b>Covariance:</b> \n",
    "Typically, the expected value of the population is unknown. Then the sample means (indicated by a bar) are used as estimators for the population and the covariance is given by:\n",
    "\n",
    "$$\\operatorname{Cov}(X,Y)=\\frac{1}{N-1}\\sum\\limits_{i=1}^{N}\\left(x_{i}-\\bar{x}\\right)\\left(y_{i}-\\bar{y}\\right)\\;.$$\n",
    "\n",
    "</div>\n"
   ]
  },
  {
   "cell_type": "code",
   "execution_count": 51,
   "metadata": {},
   "outputs": [
    {
     "name": "stdout",
     "output_type": "stream",
     "text": [
      "Covariance between X and Y: 0.041519187075006694\n"
     ]
    }
   ],
   "source": [
    "import numpy as np\n",
    "\n",
    "# initialize the random number generator (use \"0\" as seed for reproducibility)\n",
    "rng = np.random.default_rng()\n",
    "\n",
    "# generate two random variables that are related to each other\n",
    "x = rng.random(100)  \n",
    "y = 0.5 * x + np.random.normal(0, 0.1, 100)  # y is linearly related to x with some noise\n",
    "\n",
    "# Mean centering the variables\n",
    "x_centered = x - np.mean(x)\n",
    "y_centered = y - np.mean(y)\n",
    "\n",
    "# Computing covariance using dot product\n",
    "# Since we are dealing with vectors, this will give us the covariance between x and y\n",
    "covariance = np.dot(x_centered, y_centered) / (len(x) - 1)\n",
    "\n",
    "print(\"Covariance between X and Y:\", covariance)\n"
   ]
  },
  {
   "cell_type": "markdown",
   "metadata": {},
   "source": [
    "### 8.7.2 Covariance Matrix\n",
    "The covariance matrix represents the correlations of several random variables:\n",
    "\n",
    "\\begin{align}\n",
    "\t\\operatorname{Cov}(\\bm{\\mathsf{X}}) = \n",
    "\t\\begin{bmatrix}\n",
    "\t\t\\operatorname{Cov}(X_1, X_1)\\;\\;\\; & \\operatorname{Cov}(X_1, X_2)\\;\\;\\; & \\cdots\\;\\;\\; & \\operatorname{Cov}(X_1, X_n) \\\\\n",
    "\t\t\\operatorname{Cov}(X_2, X_1)\\;\\;\\; & \\operatorname{Cov}(X_2, X_2)\\;\\;\\; & \\cdots\\;\\;\\; & \\operatorname{Cov}(X_2, X_n) \\\\\n",
    "\t\t\\vdots             &                    & \\ddots\\;\\; & \\vdots         \\\\\n",
    "\t\t\\operatorname{Cov}(X_m, X_1)\\;\\;\\; & \\operatorname{Cov}(X_m, X_2)\\;\\;\\; & \\cdots\\;\\;\\; & \\operatorname{Cov}(X_m, X_n) \n",
    "\t\\end{bmatrix}\\;.\n",
    "\\end{align}\n",
    "\n",
    "Assuming that the data is contained in the data matrix $\\bm{\\mathsf{X}}$ where each column contains the records of one feature we can compute the sample (or data) covariance matrix $\\boldsymbol{\\mathsf{S}}$ as an approximation for the population covariance matrix. \n",
    "There, the first step is to center the data by subtracting the mean of a column, $\\bar{X}_j$ form all records of that column:\n",
    "\n",
    "$$\\bar{x}_{ij} = x_{ij} - \\bar{X}_j\\;.$$\n",
    "\n",
    "This results then in the centered data matrix $\\bar{\\boldsymbol{\\mathsf{X}}}$. "
   ]
  },
  {
   "cell_type": "markdown",
   "metadata": {},
   "source": [
    "<div class=\"alert alert-block alert-info\">\n",
    "<b>Covariance Matrix:</b>\n",
    "With the above introduced centered data matrix, one can easily compute the smaple covariance matrix as\n",
    "\n",
    "$$\\boldsymbol{\\mathsf{S}} = \\frac{1}{n-1} \\bar{\\boldsymbol{\\mathsf{X}}}^{\\rm T} \\bar{\\boldsymbol{\\mathsf{X}}}\\;.$$\n",
    "</div>\n"
   ]
  },
  {
   "cell_type": "code",
   "execution_count": 52,
   "metadata": {},
   "outputs": [],
   "source": [
    "import numpy as np\n",
    "rng = np.random.default_rng()   # create a random number generator\n",
    "\n",
    "n = 100      # number of records"
   ]
  },
  {
   "cell_type": "code",
   "execution_count": 53,
   "metadata": {},
   "outputs": [],
   "source": [
    "X1 = np.linspace(0.03, 97, num=n) + rng.normal(loc=0, scale=0.1, size=n)\n",
    "X2 = 5 + 0.1 * X1 + rng.normal(loc=0, scale=1, size=n)\n",
    "X = np.vstack((X1, X2)).T\n",
    "\n",
    "# center the feature matrix\n",
    "Xc = X - np.mean(X, axis=0)"
   ]
  },
  {
   "cell_type": "code",
   "execution_count": 54,
   "metadata": {},
   "outputs": [
    {
     "data": {
      "text/plain": [
       "<matplotlib.collections.PathCollection at 0x7efbe1592310>"
      ]
     },
     "execution_count": 54,
     "metadata": {},
     "output_type": "execute_result"
    },
    {
     "data": {
      "image/png": "[encoded data removed]",
      "text/plain": [
       "<Figure size 640x480 with 1 Axes>"
      ]
     },
     "metadata": {},
     "output_type": "display_data"
    }
   ],
   "source": [
    "# observe that the small dots are centered around (0|0):\n",
    "import matplotlib.pyplot as plt\n",
    "fig, ax = plt.subplots()\n",
    "ax.scatter(X[:, 0], X[:, 1], marker='*')\n",
    "ax.scatter(Xc[:, 0], Xc[:, 1], marker='.')\n"
   ]
  },
  {
   "cell_type": "markdown",
   "metadata": {},
   "source": []
  },
  {
   "cell_type": "code",
   "execution_count": 55,
   "metadata": {},
   "outputs": [
    {
     "data": {
      "text/plain": [
       "array([[807.92331748,  80.36271258],\n",
       "       [ 80.36271258,   9.00291874]])"
      ]
     },
     "execution_count": 55,
     "metadata": {},
     "output_type": "execute_result"
    }
   ],
   "source": [
    "S = 1 / (n - 1) * (Xc.T @ Xc)\n",
    "S"
   ]
  },
  {
   "cell_type": "code",
   "execution_count": 56,
   "metadata": {},
   "outputs": [
    {
     "data": {
      "text/plain": [
       "True"
      ]
     },
     "execution_count": 56,
     "metadata": {},
     "output_type": "execute_result"
    }
   ],
   "source": [
    "# now check if this is the same as the `numpy` function:\n",
    "# note the `rowvar=False` because our features are in columns!\n",
    "np.allclose(S, np.cov(X, rowvar=False))"
   ]
  },
  {
   "cell_type": "markdown",
   "metadata": {},
   "source": [
    "### 8.7.4 Correlation Matrix\n",
    "#### Example 8.8: Matrix of Correlation Coefficients for the Iris Dataset\n",
    "\n",
    "Here, we use the iris dataset contained in the `MDSdata` package (see the description at https://mds-book.org):"
   ]
  },
  {
   "cell_type": "code",
   "execution_count": 57,
   "metadata": {},
   "outputs": [
    {
     "name": "stdout",
     "output_type": "stream",
     "text": [
      "X has 150 records and 4 features.\n"
     ]
    }
   ],
   "source": [
    "from mdsdata import DS1\n",
    "\n",
    "X, y = DS1.load_data(return_X_y=True)\n",
    "print(f\"X has {X.shape[0]} records and {X.shape[1]} features.\")"
   ]
  },
  {
   "cell_type": "markdown",
   "metadata": {},
   "source": [
    "For computing the matrix of correlation coefficients we use the numpy function\n",
    "`corrcoef` which, in analogy to the covariance matrix takes the feature matrix and\n",
    "needs to be informed that the features are in columns:"
   ]
  },
  {
   "cell_type": "code",
   "execution_count": 58,
   "metadata": {},
   "outputs": [
    {
     "data": {
      "text/plain": [
       "array([[ 1.        , -0.10936925,  0.87175416,  0.81795363],\n",
       "       [-0.10936925,  1.        , -0.4205161 , -0.35654409],\n",
       "       [ 0.87175416, -0.4205161 ,  1.        ,  0.9627571 ],\n",
       "       [ 0.81795363, -0.35654409,  0.9627571 ,  1.        ]])"
      ]
     },
     "execution_count": 58,
     "metadata": {},
     "output_type": "execute_result"
    }
   ],
   "source": [
    "import numpy as np\n",
    "cor = np.corrcoef(X, rowvar=False)\n",
    "cor"
   ]
  },
  {
   "cell_type": "code",
   "execution_count": 59,
   "metadata": {},
   "outputs": [
    {
     "data": {
      "text/plain": [
       "<matplotlib.colorbar.Colorbar at 0x7efbe1523130>"
      ]
     },
     "execution_count": 59,
     "metadata": {},
     "output_type": "execute_result"
    },
    {
     "data": {
      "image/png": "[encoded data removed]",
      "text/plain": [
       "<Figure size 640x480 with 2 Axes>"
      ]
     },
     "metadata": {},
     "output_type": "display_data"
    }
   ],
   "source": [
    "import matplotlib.pyplot as plt\n",
    "im = plt.imshow(cor, vmin=-1, vmax=1, cmap='RdBu')\n",
    "plt.colorbar(im)"
   ]
  }
 ],
 "metadata": {
  "kernelspec": {
   "display_name": "MDSbook",
   "language": "python",
   "name": "python3"
  },
  "language_info": {
   "codemirror_mode": {
    "name": "ipython",
    "version": 3
   },
   "file_extension": ".py",
   "mimetype": "text/x-python",
   "name": "python",
   "nbconvert_exporter": "python",
   "pygments_lexer": "ipython3",
   "version": "3.9.5"
  }
 },
 "nbformat": 4,
 "nbformat_minor": 2
}
